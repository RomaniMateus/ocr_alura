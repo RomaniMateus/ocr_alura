{
 "cells": [
  {
   "cell_type": "markdown",
   "source": [],
   "metadata": {
    "collapsed": false
   },
   "id": "92ceffa1ec6c958d"
  },
  {
   "cell_type": "code",
   "outputs": [],
   "source": [
    "import cv2\n",
    "import pytesseract\n"
   ],
   "metadata": {
    "collapsed": true,
    "ExecuteTime": {
     "end_time": "2024-04-09T17:27:28.723352Z",
     "start_time": "2024-04-09T17:27:28.718412Z"
    }
   },
   "id": "initial_id",
   "execution_count": 2
  },
  {
   "cell_type": "code",
   "outputs": [
    {
     "name": "stdout",
     "output_type": "stream",
     "text": [
      "ic\n",
      "\n",
      "Tesseract OCR\n"
     ]
    }
   ],
   "source": [
    "## Lendo a imagem e testando o tessaract\n",
    "image_file_path = \".\\\\Imagens\\\\Aula1-ocr.png\"\n",
    "image = cv2.imread(image_file_path)\n",
    "\n",
    "cv2.imshow(\"image\", image)\n",
    "cv2.waitKey(0)\n",
    "cv2.destroyAllWindows()\n",
    "\n",
    "text = pytesseract.image_to_string(image)\n",
    "print(text)"
   ],
   "metadata": {
    "collapsed": false,
    "ExecuteTime": {
     "end_time": "2024-04-09T17:27:32.902168Z",
     "start_time": "2024-04-09T17:27:28.801086Z"
    }
   },
   "id": "9a58b1c496c2ace8",
   "execution_count": 3
  },
  {
   "cell_type": "code",
   "outputs": [
    {
     "name": "stdout",
     "output_type": "stream",
     "text": [
      "G\n",
      "\n",
      "Tesseract OCR\n"
     ]
    }
   ],
   "source": [
    "image = cv2.cvtColor(image, cv2.COLOR_BGR2GRAY)\n",
    "\n",
    "cv2.imshow(\"image\", image)\n",
    "cv2.waitKey(0)\n",
    "cv2.destroyAllWindows()\n",
    "\n",
    "print(pytesseract.image_to_string(image))"
   ],
   "metadata": {
    "collapsed": false,
    "ExecuteTime": {
     "end_time": "2024-04-09T17:27:34.517080Z",
     "start_time": "2024-04-09T17:27:32.905833Z"
    }
   },
   "id": "bfaefc31d7ca3ee1",
   "execution_count": 4
  },
  {
   "cell_type": "markdown",
   "source": [
    "# Explorando a ferramenta"
   ],
   "metadata": {
    "collapsed": false
   },
   "id": "b99d7ff4fb07e782"
  },
  {
   "cell_type": "markdown",
   "source": [
    "## Caracteres Diferentes"
   ],
   "metadata": {
    "collapsed": false
   },
   "id": "e996943d7e3e5700"
  },
  {
   "cell_type": "code",
   "outputs": [],
   "source": [
    "image_file_path = \".\\\\Imagens\\\\Aula2-undersampling.png\"\n",
    "\n",
    "image = cv2.imread(image_file_path)\n",
    "\n",
    "image = cv2.cvtColor(image, cv2.COLOR_BGR2RGB)\n",
    "cv2.imshow(\"image\", image)\n",
    "cv2.waitKey(0)\n",
    "cv2.destroyAllWindows()"
   ],
   "metadata": {
    "collapsed": false,
    "ExecuteTime": {
     "end_time": "2024-04-09T17:27:42.429592Z",
     "start_time": "2024-04-09T17:27:34.518796Z"
    }
   },
   "id": "de7d7a1ba6b83da",
   "execution_count": 5
  },
  {
   "cell_type": "code",
   "outputs": [
    {
     "name": "stdout",
     "output_type": "stream",
     "text": [
      "Undersampling\n",
      "\n",
      "É uma técnica que consiste em manter todos os dados da classe com menor frequência e\n",
      "diminuir a quantidade dos que estão na classe de maior frequência, fazendo com que as\n",
      "observações no conjunto possuam dados com a variável alvo equilibrada.\n"
     ]
    }
   ],
   "source": [
    "print(pytesseract.image_to_string(image, lang='por'))"
   ],
   "metadata": {
    "collapsed": false,
    "ExecuteTime": {
     "end_time": "2024-04-09T17:27:43.343950Z",
     "start_time": "2024-04-09T17:27:42.432719Z"
    }
   },
   "id": "b2aae45bbe8068da",
   "execution_count": 6
  },
  {
   "cell_type": "markdown",
   "source": [
    "## PSM - Page Segmentation Mode"
   ],
   "metadata": {
    "collapsed": false
   },
   "id": "9d4980310e4d9b26"
  },
  {
   "cell_type": "code",
   "outputs": [],
   "source": [
    "image_file_path = \".\\\\Imagens\\\\Aula2-trecho-livro.png\"\n",
    "\n",
    "image = cv2.imread(image_file_path)\n",
    "image = cv2.cvtColor(image, cv2.COLOR_BGR2RGB)\n",
    "cv2.imshow(\"image\", image)\n",
    "cv2.waitKey(0)\n",
    "cv2.destroyAllWindows()"
   ],
   "metadata": {
    "collapsed": false,
    "ExecuteTime": {
     "end_time": "2024-04-09T17:27:48.334651Z",
     "start_time": "2024-04-09T17:27:43.347268Z"
    }
   },
   "id": "b79041f6d496ff27",
   "execution_count": 7
  },
  {
   "cell_type": "code",
   "outputs": [
    {
     "name": "stdout",
     "output_type": "stream",
     "text": [
      "“Não é possível imaginar que existimos sem imaginar que\n",
      "um dia vamos morrer”, pensou ela. “Da mesma forma, é impos-\n",
      "sível imaginar que morreremos sem ao mesmo tempo pensar no\n",
      "quão fantástica e única é a vida.”\n"
     ]
    }
   ],
   "source": [
    "config_tesseract = \"tessdata-dir tessdata --psm 6\"\n",
    "texto = pytesseract.image_to_string(image, lang='por', config=config_tesseract)\n",
    "print(texto)"
   ],
   "metadata": {
    "collapsed": false,
    "ExecuteTime": {
     "end_time": "2024-04-09T17:27:49.026855Z",
     "start_time": "2024-04-09T17:27:48.338808Z"
    }
   },
   "id": "9d61ab9342a20921",
   "execution_count": 8
  },
  {
   "cell_type": "markdown",
   "source": [
    "### Selecionando textos"
   ],
   "metadata": {
    "collapsed": false
   },
   "id": "875bd633269d5cef"
  },
  {
   "cell_type": "code",
   "outputs": [],
   "source": [
    "image_file_path = \".\\\\Imagens\\\\Aula3-testando.png\"\n",
    "\n",
    "image = cv2.imread(image_file_path)\n",
    "\n",
    "image = cv2.cvtColor(image, cv2.COLOR_BGR2RGB)\n",
    "\n",
    "cv2.imshow(\"image\", image)\n",
    "cv2.waitKey(0)\n",
    "cv2.destroyAllWindows()"
   ],
   "metadata": {
    "collapsed": false,
    "ExecuteTime": {
     "end_time": "2024-04-09T17:27:50.862744Z",
     "start_time": "2024-04-09T17:27:49.028467Z"
    }
   },
   "id": "4a6a42d90e3035b4",
   "execution_count": 9
  },
  {
   "cell_type": "code",
   "outputs": [
    {
     "data": {
      "text/plain": "{'level': [1, 2, 3, 4, 5, 5, 5, 4, 5, 5],\n 'page_num': [1, 1, 1, 1, 1, 1, 1, 1, 1, 1],\n 'block_num': [0, 1, 1, 1, 1, 1, 1, 1, 1, 1],\n 'par_num': [0, 0, 1, 1, 1, 1, 1, 1, 1, 1],\n 'line_num': [0, 0, 0, 1, 1, 1, 1, 2, 2, 2],\n 'word_num': [0, 0, 0, 0, 1, 2, 3, 0, 1, 2],\n 'left': [0, 92, 92, 94, 94, 348, 425, 92, 92, 474],\n 'top': [0, 74, 74, 74, 74, 111, 88, 171, 171, 184],\n 'width': [688, 502, 502, 491, 204, 28, 160, 502, 328, 120],\n 'height': [276, 159, 159, 73, 69, 28, 59, 62, 62, 49],\n 'conf': [-1, -1, -1, -1, 65, 91, 25, -1, 84, 75],\n 'text': ['',\n  '',\n  '',\n  '',\n  'Testando',\n  'o',\n  'OCR..',\n  '',\n  'Selecionando',\n  'textos']}"
     },
     "execution_count": 10,
     "metadata": {},
     "output_type": "execute_result"
    }
   ],
   "source": [
    "from pytesseract import Output\n",
    "\n",
    "config_tesseract = \"tessdata-dir tessdata\"\n",
    "\n",
    "resultado = pytesseract.image_to_data(image, lang='por', config=config_tesseract, output_type=Output.DICT)\n",
    "\n",
    "resultado"
   ],
   "metadata": {
    "collapsed": false,
    "ExecuteTime": {
     "end_time": "2024-04-09T17:27:51.451645Z",
     "start_time": "2024-04-09T17:27:50.864889Z"
    }
   },
   "id": "56bd47fa55b8c9de",
   "execution_count": 10
  },
  {
   "cell_type": "code",
   "outputs": [
    {
     "data": {
      "text/plain": "IntSlider(value=0)",
      "application/vnd.jupyter.widget-view+json": {
       "version_major": 2,
       "version_minor": 0,
       "model_id": "c8cd32cfcfd540ee91e6fca38e3032cb"
      }
     },
     "metadata": {},
     "output_type": "display_data"
    },
    {
     "data": {
      "text/plain": "Output()",
      "application/vnd.jupyter.widget-view+json": {
       "version_major": 2,
       "version_minor": 0,
       "model_id": "0b7039240a7e45819d43b653898ff779"
      }
     },
     "metadata": {},
     "output_type": "display_data"
    }
   ],
   "source": [
    "import ipywidgets as widgets\n",
    "from ipywidgets import HBox, VBox\n",
    "import numpy as np\n",
    "import matplotlib.pyplot as plt\n",
    "from IPython.display import display\n",
    "%matplotlib inline\n",
    "\n",
    "\n",
    "int_range = widgets.IntSlider()\n",
    "output2 = widgets.Output()\n",
    "global min_conf\n",
    "display(int_range, output2)\n",
    "\n",
    "def on_value_change(change):\n",
    "    \n",
    "    global min_conf\n",
    "    min_conf = 0\n",
    "    \n",
    "    with output2:\n",
    "        min_conf = change['new']\n",
    "    \n",
    "int_range.observe(on_value_change, names='value')\n"
   ],
   "metadata": {
    "collapsed": false,
    "ExecuteTime": {
     "end_time": "2024-04-09T17:30:15.013915Z",
     "start_time": "2024-04-09T17:30:14.166991Z"
    }
   },
   "id": "94835c26b6456804",
   "execution_count": 12
  },
  {
   "cell_type": "code",
   "outputs": [],
   "source": [
    "def draw_bbox(result, image, color=(255, 100, 0)):\n",
    "    x = result['left'][i]\n",
    "    y = result['top'][i]\n",
    "    w = result['width'][i]\n",
    "    h = result['height'][i]\n",
    "    \n",
    "    cv2.rectangle(image, (x, y), (x + w, y + h), color, 2)\n",
    "    \n",
    "    return x, y, image"
   ],
   "metadata": {
    "collapsed": false,
    "ExecuteTime": {
     "end_time": "2024-04-09T17:31:00.732755Z",
     "start_time": "2024-04-09T17:31:00.725242Z"
    }
   },
   "id": "76597bb7ba63cbbb",
   "execution_count": 16
  },
  {
   "cell_type": "code",
   "outputs": [],
   "source": [
    "from PIL import ImageFont, ImageDraw\n",
    "from PIL import Image\n",
    "\n",
    "def escreve_texto(text, x, y, image, font, size_text=32):\n",
    "    font = ImageFont.truetype(font, size_text)\n",
    "    img_pil = Image.fromarray(image)\n",
    "    draw = ImageDraw.Draw(img_pil)\n",
    "    draw.text((x, y - size_text), text, font=font, fill=(255, 255, 255))\n",
    "    img = np.array(img_pil)\n",
    "    \n",
    "    return img\n",
    "\n",
    "    "
   ],
   "metadata": {
    "collapsed": false,
    "ExecuteTime": {
     "end_time": "2024-04-09T17:31:03.442579Z",
     "start_time": "2024-04-09T17:31:03.433867Z"
    }
   },
   "id": "403eef4aefbfb46a",
   "execution_count": 17
  },
  {
   "cell_type": "code",
   "outputs": [],
   "source": [
    "from pytesseract import Output\n",
    "\n",
    "config_tesseract = \"tessdata-dir tessdata\"\n",
    "\n",
    "image_file_path = \".\\\\Imagens\\\\Aula1-ocr.png\"\n",
    "\n",
    "image = cv2.imread(image_file_path)\n",
    "rgb = image\n",
    "image_copy = rgb.copy()\n",
    "resultado = pytesseract.image_to_data(image_copy, lang='por', config=config_tesseract, output_type=Output.DICT)\n",
    "\n",
    "font_path = \".\\\\Imagens\\\\calibri.ttf\"\n",
    "\n",
    "for i in range (len(resultado['text'])):\n",
    "     conf = int(resultado['conf'][i])\n",
    "     if conf > min_conf:\n",
    "         x, y, image = draw_bbox(resultado, image_copy)\n",
    "         \n",
    "         text = resultado['text'][i]\n",
    "         img_copia = escreve_texto(text, x, y, image_copy, font_path)\n",
    "         # cv2.putText(image_copy, text, (x, y), cv2.FONT_HERSHEY_SIMPLEX, 0.7, (255, 255, 255), 2)\n",
    "         \n",
    "cv2.imshow(\"image_copy\", image_copy)\n",
    "cv2.waitKey(0)\n",
    "cv2.destroyAllWindows()"
   ],
   "metadata": {
    "collapsed": false,
    "ExecuteTime": {
     "end_time": "2024-04-09T17:31:09.009752Z",
     "start_time": "2024-04-09T17:31:06.217945Z"
    }
   },
   "id": "f5c3ea03d9367230",
   "execution_count": 18
  },
  {
   "cell_type": "markdown",
   "source": [
    "### Destacando informações"
   ],
   "metadata": {
    "collapsed": false
   },
   "id": "a4c02fcb64d98ee0"
  },
  {
   "cell_type": "code",
   "outputs": [
    {
     "data": {
      "text/plain": "{'level': [1, 2, 3, 4, 5, 4, 5, 2, 3, 4, 5, 5],\n 'page_num': [1, 1, 1, 1, 1, 1, 1, 1, 1, 1, 1, 1],\n 'block_num': [0, 1, 1, 1, 1, 1, 1, 2, 2, 2, 2, 2],\n 'par_num': [0, 0, 1, 1, 1, 1, 1, 0, 1, 1, 1, 1],\n 'line_num': [0, 0, 0, 1, 1, 2, 2, 0, 0, 1, 1, 1],\n 'word_num': [0, 0, 0, 0, 1, 0, 1, 0, 0, 0, 1, 2],\n 'left': [0, 274, 274, 274, 274, 274, 274, 84, 84, 84, 84, 474],\n 'top': [0, 30, 30, 30, 30, 30, 30, 277, 277, 277, 278, 277],\n 'width': [744, 199, 199, 77, 77, 199, 199, 576, 576, 576, 357, 186],\n 'height': [400, 202, 202, 79, 79, 202, 202, 64, 64, 64, 63, 64],\n 'conf': [-1, -1, -1, -1, 77, -1, 33, -1, -1, -1, 7, 0],\n 'text': ['', '', '', '', 'r,', '', '.', '', '', '', 'NSTA', '00']}"
     },
     "execution_count": 19,
     "metadata": {},
     "output_type": "execute_result"
    }
   ],
   "source": [
    "config_tesseract = \"tessdata-dir tessdata\"\n",
    "\n",
    "resultado = pytesseract.image_to_data(image, lang='por', config=config_tesseract, output_type=Output.DICT)\n",
    "\n",
    "resultado"
   ],
   "metadata": {
    "collapsed": false,
    "ExecuteTime": {
     "end_time": "2024-04-09T17:31:13.527267Z",
     "start_time": "2024-04-09T17:31:11.552914Z"
    }
   },
   "id": "cbe000b24b187632",
   "execution_count": 19
  },
  {
   "cell_type": "code",
   "outputs": [],
   "source": [
    "import re\n",
    "\n",
    "padrao_data = '^(0[1-9]|[12][0-9]|3[01])/(0[1-9]|1[0-2])/(19|20)\\d\\d$'"
   ],
   "metadata": {
    "collapsed": false,
    "ExecuteTime": {
     "end_time": "2024-04-09T17:31:15.029375Z",
     "start_time": "2024-04-09T17:31:15.024100Z"
    }
   },
   "id": "383c579957fc0fca",
   "execution_count": 20
  },
  {
   "cell_type": "code",
   "outputs": [],
   "source": [
    "image_copy = image.copy()\n",
    "\n",
    "for i in range(len(resultado['text'])):\n",
    "    conf = int(resultado['conf'][i])\n",
    "    if conf > min_conf:\n",
    "        text = resultado['text'][i]\n",
    "        \n",
    "        if re.match(padrao_data, text):\n",
    "            x, y, image = draw_bbox(resultado, image_copy, (0, 255, 0))\n",
    "            cv2.putText(image_copy, text, (x, y), cv2.FONT_HERSHEY_SIMPLEX, 0.5, (0, 0, 0), 2)\n",
    "        else:\n",
    "            x, y, image = draw_bbox(resultado, image_copy, (255, 0, 0))\n",
    "            \n",
    "cv2.imshow(\"image_copy\", image_copy)\n",
    "cv2.waitKey(0)\n",
    "cv2.destroyAllWindows()\n"
   ],
   "metadata": {
    "collapsed": false,
    "ExecuteTime": {
     "end_time": "2024-04-09T17:31:20.000922Z",
     "start_time": "2024-04-09T17:31:16.382090Z"
    }
   },
   "id": "7019837273954e0",
   "execution_count": 21
  }
 ],
 "metadata": {
  "kernelspec": {
   "display_name": "Python 3",
   "language": "python",
   "name": "python3"
  },
  "language_info": {
   "codemirror_mode": {
    "name": "ipython",
    "version": 2
   },
   "file_extension": ".py",
   "mimetype": "text/x-python",
   "name": "python",
   "nbconvert_exporter": "python",
   "pygments_lexer": "ipython2",
   "version": "2.7.6"
  }
 },
 "nbformat": 4,
 "nbformat_minor": 5
}
